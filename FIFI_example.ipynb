{
 "cells": [
  {
   "cell_type": "markdown",
   "metadata": {},
   "source": [
    "# This Notebook will give an example how to create a fragmented interaction fingerprint (FIFI) for a set of docked compounds (sdf) and a protein (pdb)"
   ]
  },
  {
   "cell_type": "code",
   "execution_count": 1,
   "metadata": {},
   "outputs": [],
   "source": [
    "import numpy as np\n",
    "import pandas as pd\n",
    "import os"
   ]
  },
  {
   "cell_type": "markdown",
   "metadata": {},
   "source": [
    "## Load the protein pdb and ligand sdf\n",
    "- using beta2-adrenergic receptor (adrb2) as an axample"
   ]
  },
  {
   "cell_type": "code",
   "execution_count": 2,
   "metadata": {},
   "outputs": [],
   "source": [
    "from fifi_vicinity import load_pdb_file_with_amino_acid, load_mols_from_sdf\n",
    "target_abv = \"adrb2\"\n",
    "\n",
    "\n",
    "protein_file = load_pdb_file_with_amino_acid(f'file_source/{target_abv}_target.pdb')\n",
    "ligand_file = load_mols_from_sdf(f'file_source/{target_abv}_ligands_train.sdf')"
   ]
  },
  {
   "cell_type": "markdown",
   "metadata": {},
   "source": [
    "## Extracting the definition of proximal atoms\n",
    "- use this when first creating FIFI / when there isn't any proximal atoms pickle yet"
   ]
  },
  {
   "cell_type": "code",
   "execution_count": 8,
   "metadata": {},
   "outputs": [
    {
     "name": "stdout",
     "output_type": "stream",
     "text": [
      "processing 969/969\r"
     ]
    }
   ],
   "source": [
    "from fifi_vicinity import extract_close_atoms, ligand_interaction_comprehension\n",
    "\n",
    "close_atom_list = extract_close_atoms(protein_file, ligand_file)\n",
    "df_fragment = ligand_interaction_comprehension(close_atom_list, ligand_file)"
   ]
  },
  {
   "cell_type": "markdown",
   "metadata": {},
   "source": [
    "## Saving DF fragments for future use\n",
    "- use this part if you want to save df_fragment as a local pickle file"
   ]
  },
  {
   "cell_type": "code",
   "execution_count": 5,
   "metadata": {},
   "outputs": [],
   "source": [
    "from fifi_vicinity import dict2pickle\n",
    "\n",
    "df_fragment_path = f'vicinity_atoms/' #path to save the file result\n",
    "os.makedirs(df_fragment_path, exist_ok= True)\n",
    "dict2pickle(df_fragment, f\"{df_fragment_path}/{target_abv}.pickle\")"
   ]
  },
  {
   "cell_type": "markdown",
   "metadata": {},
   "source": [
    "## Loading DF fragments from previous work\n",
    "- Use this if previous pickle file of df fragment has already been made and saved and doesn't need to be made again"
   ]
  },
  {
   "cell_type": "code",
   "execution_count": 3,
   "metadata": {},
   "outputs": [],
   "source": [
    "df_savefile_path =  f'vicinity_atoms/{target_abv}.pickle'\n",
    "df_fragment = pd.read_pickle(df_savefile_path)"
   ]
  },
  {
   "cell_type": "markdown",
   "metadata": {},
   "source": [
    "## Generating FIFI FP\n",
    "- Need df_fragments, protein pdb and ligands sdf file to be able to run\n",
    "- It will save the bits in a pickle format. for FIFI-US each residue is stored in each pickle\n",
    "- The dictionary for hash value and SMARTS also saved in the respective folder"
   ]
  },
  {
   "cell_type": "code",
   "execution_count": 5,
   "metadata": {},
   "outputs": [
    {
     "name": "stdout",
     "output_type": "stream",
     "text": [
      "processing 316TYR 83/83 aa 968/969 ligands\r"
     ]
    }
   ],
   "source": [
    "from fifi_generating_fp import residue_dict_maker, generating_fifi_fp\n",
    "\n",
    "ligand_depth = 2 #number of proximal atoms' neighbor to be included \n",
    "protein_file_name = f'file_source/{target_abv}_target.pdb' #filename of pdb\n",
    "save_path = f\"smarts_bits_v8/{target_abv}\" #where to save the FIFI FP\n",
    "\n",
    "\n",
    "os.makedirs(save_path, exist_ok= True)\n",
    "aa_dict = residue_dict_maker(protein_file_name)\n",
    "generating_fifi_fp(ligand_file, df_fragment, aa_dict, lig_depth = ligand_depth)"
   ]
  },
  {
   "cell_type": "markdown",
   "metadata": {},
   "source": [
    "## Loading FIFI pickle and make it into a dataframe, as an input of ML\n",
    "- need folder path of the fifi pickle, and a list of included ligand compound names\n"
   ]
  },
  {
   "cell_type": "code",
   "execution_count": 18,
   "metadata": {},
   "outputs": [],
   "source": [
    "from fifi_pickle_load import fifius_pickle2df\n",
    "\n",
    "example_ligands = [\"ch322\", \"ch351\", \"neg272547\"]\n",
    "fifi_us_pickle_path =  f'smarts_bits_v8/5.5/ecfp2_n2'\n",
    "\n",
    "df_fifi = fifius_pickle2df(fifi_us_pickle_path, example_ligands)"
   ]
  },
  {
   "cell_type": "code",
   "execution_count": 19,
   "metadata": {},
   "outputs": [
    {
     "name": "stdout",
     "output_type": "stream",
     "text": [
      "           27_0  27_1  27_2  27_3  27_4  40_0  40_1  40_2  40_3  40_4  ...  \\\n",
      "ch322         0     0     0     0     0     0     0     0     0     0  ...   \n",
      "ch351         0     0     0     0     0     0     0     0     0     0  ...   \n",
      "neg272547     0     0     0     0     0     0     0     0     0     0  ...   \n",
      "\n",
      "           316_678  316_679  316_680  316_681  316_682  316_683  316_684  \\\n",
      "ch322            0        0        0        0        0        0        0   \n",
      "ch351            0        0        0        0        0        0        0   \n",
      "neg272547        0        0        0        0        0        0        0   \n",
      "\n",
      "           316_685  316_686  316_687  \n",
      "ch322            0        0        0  \n",
      "ch351            0        0        0  \n",
      "neg272547        0        0        0  \n",
      "\n",
      "[3 rows x 23041 columns]\n"
     ]
    }
   ],
   "source": [
    "print(df_fifi)"
   ]
  },
  {
   "cell_type": "code",
   "execution_count": 17,
   "metadata": {},
   "outputs": [
    {
     "name": "stdout",
     "output_type": "stream",
     "text": [
      "['ch322', 'ch323', 'ch324', 'ch325', 'ch327', 'ch330', 'ch332', 'ch334', 'ch336', 'ch339', 'ch341', 'ch342', 'ch343', 'ch344', 'ch345', 'ch347', 'ch349', 'ch350', 'ch351', 'neg272547', 'neg185882', 'neg100405', 'neg55418', 'neg261234', 'neg271644', 'neg210492', 'neg75718', 'neg172627', 'neg225650', 'neg270206', 'neg290722', 'neg175562', 'neg271484', 'neg86487', 'neg2016', 'neg136790', 'neg90181', 'neg321149', 'neg104234', 'neg30968', 'neg231787', 'neg181495', 'neg167641', 'neg68271', 'neg48577', 'neg105407', 'neg227665', 'neg134447', 'neg201315', 'neg197381', 'neg199400', 'neg259445', 'neg180390', 'neg105175', 'neg182246', 'neg107216', 'neg46380', 'neg221964', 'neg122116', 'neg268183', 'neg179616', 'neg251744', 'neg251745', 'neg106136', 'neg47788', 'neg221051', 'neg103907', 'neg235892', 'neg245437', 'neg162877', 'neg298924', 'neg74233', 'neg18066', 'neg165642', 'neg30603', 'neg17093', 'neg174315', 'neg69718', 'neg124743', 'neg224129', 'neg39394', 'neg320895', 'neg292022', 'neg85163', 'neg113859', 'neg14252', 'neg251036', 'neg173161', 'neg106210', 'neg88291', 'neg166626', 'neg88387', 'neg15841', 'neg210314', 'neg14028', 'neg200393', 'neg13665', 'neg279641', 'neg45529', 'neg18808', 'neg87029', 'neg201359', 'neg59029', 'neg227340', 'neg237145', 'neg319051', 'neg272696', 'neg245096_neg310850', 'neg228265', 'neg248440', 'neg173099', 'neg86433', 'neg303745', 'neg165952', 'neg95482', 'neg240795', 'neg78961', 'neg79037', 'neg49142', 'neg178020', 'neg16926', 'neg17948', 'neg261432', 'neg120644', 'neg242447', 'neg261606', 'neg91682', 'neg160027', 'neg261938', 'neg117016', 'neg8333', 'neg281867', 'neg46373', 'neg57315', 'neg174507', 'neg118868', 'neg234261', 'neg232079', 'neg108725', 'neg226125', 'neg224135', 'neg110220', 'neg326746', 'neg106832', 'neg201957', 'neg84656', 'neg305053', 'neg254969', 'neg182838', 'neg288615', 'neg38559', 'neg256210', 'neg96018', 'neg68090', 'neg199939', 'neg88949', 'neg5403', 'neg201891', 'neg28855', 'neg247450', 'neg255634', 'neg32624', 'neg98095', 'neg67347', 'neg284741', 'neg48452', 'neg177571', 'neg284674', 'neg286771', 'neg300430', 'neg181786', 'neg204226', 'neg261028', 'neg106109', 'neg281829', 'neg27974', 'neg314641', 'neg103000', 'neg329480', 'neg106398', 'neg182347', 'neg173238', 'neg189510', 'neg29143', 'neg135772', 'neg6283', 'neg222279', 'neg324836', 'neg222025', 'neg218888', 'neg6029', 'neg84851', 'neg209255', 'neg87354', 'neg101066', 'neg84040', 'neg226499', 'neg263163', 'neg237242', 'neg5480', 'neg98734', 'neg149499', 'neg263816', 'neg24501', 'neg304453', 'neg16221', 'neg29618', 'neg319457', 'neg80857', 'neg106058', 'neg255031', 'neg243251', 'neg108230', 'neg59564', 'neg14549', 'neg49813', 'neg254078', 'neg116193', 'neg68865', 'neg320755', 'neg216554', 'neg224575', 'neg72598', 'neg189802', 'neg182537', 'neg257864', 'neg284638', 'neg53424', 'neg33161', 'neg58715', 'neg19589', 'neg232609', 'neg100378', 'neg45111', 'neg7899', 'neg252548', 'neg97187', 'neg104313', 'neg268631', 'neg192314', 'neg3595', 'neg138923', 'neg176979', 'neg295731', 'neg197798', 'neg223102', 'neg190299', 'neg88080', 'neg306743', 'neg38168', 'neg187781', 'neg69260', 'neg187574', 'neg44583', 'neg174526', 'neg179900', 'neg44618', 'neg105888', 'neg173162', 'neg327858', 'neg234109', 'neg69557', 'neg256222', 'neg140701', 'neg75229', 'neg5112', 'neg194748', 'neg92412', 'neg32564', 'neg9215', 'neg286429', 'neg21924', 'neg254612', 'neg232496', 'neg66062', 'neg214544', 'neg70870', 'neg195531', 'neg182957', 'neg88854', 'neg60777', 'neg53330', 'neg153549', 'neg32124', 'neg89643', 'neg36178', 'neg295028', 'neg142167', 'neg302018', 'neg281770', 'neg183297', 'neg21410', 'neg8004', 'neg122890', 'neg267257', 'neg69004', 'neg99918', 'neg23063', 'neg28510', 'neg84878', 'neg323724', 'neg285525', 'neg97268', 'neg303467', 'neg43317', 'neg182666', 'neg205539', 'neg19603', 'neg275393', 'neg287963', 'neg15120', 'neg316877', 'neg168737', 'neg81292', 'neg99643', 'neg102318', 'neg9475', 'neg63035', 'neg239120', 'neg79512', 'neg145873', 'neg99667', 'neg108370', 'neg14704', 'neg214657', 'neg223510', 'neg259130', 'neg63289', 'neg174432', 'neg85238', 'neg220764', 'neg323103', 'neg8494', 'neg182708', 'neg284884', 'neg105585', 'neg291194', 'neg282439', 'neg252376', 'neg43719', 'neg82846', 'neg84386', 'neg35175', 'neg5293', 'neg14973', 'neg141799', 'neg88214', 'neg85107', 'neg133751', 'neg83769', 'neg134952', 'neg87002', 'neg166342', 'neg103142', 'neg217100', 'neg325630', 'neg34560', 'neg138531', 'neg178981', 'neg138822', 'neg199934', 'neg136993', 'neg17976', 'neg138401', 'neg81546', 'neg14908', 'neg18254', 'neg200715', 'neg240970', 'neg107039', 'neg83477', 'neg9143', 'neg2399', 'neg183315', 'neg20031', 'neg283197', 'neg175396', 'neg176912', 'neg16905', 'neg51982', 'neg178048', 'neg18264', 'neg16093', 'neg86702', 'neg184769', 'neg68202', 'neg25311', 'neg20719', 'neg55433', 'neg289750', 'neg17329', 'neg28062', 'neg13659', 'neg83168', 'neg98184', 'neg275416', 'neg236076', 'neg124110', 'neg195150', 'neg259926', 'neg301161', 'neg263424', 'neg252880', 'neg48965', 'neg174605', 'neg6534', 'neg318278', 'neg196261', 'neg195967', 'neg187720', 'neg329213', 'neg233204', 'neg23907', 'neg180673', 'neg316600', 'neg224659', 'neg49794', 'neg137467', 'neg220995', 'neg116299', 'neg16498', 'neg300005', 'neg59144', 'neg178986', 'neg23853', 'neg142357', 'neg73970', 'neg280667', 'neg19373', 'neg158046', 'neg40714', 'neg111489', 'neg107874', 'neg308046', 'neg262402', 'neg238371', 'neg63674', 'neg100901', 'neg234366', 'neg226191', 'neg34161', 'neg5908', 'neg212351', 'neg24572', 'neg103050', 'neg177540', 'neg18752', 'neg292090', 'neg80629', 'neg61493', 'neg211695', 'neg250703', 'neg175830', 'neg246758', 'neg199465', 'neg40443', 'neg23733', 'neg25517', 'neg30028', 'neg34923', 'neg67735', 'neg237766', 'neg249165', 'neg5465', 'neg28488', 'neg324073', 'neg178949', 'neg28734', 'neg276394', 'neg179834', 'neg48436', 'neg45891', 'neg16761', 'neg207966', 'neg289755', 'neg69492', 'neg249860', 'neg294991', 'neg97004', 'neg127718', 'neg251527', 'neg105757', 'neg23954', 'neg90791', 'neg60392', 'neg58305', 'neg217376', 'neg228192', 'neg36011', 'neg78823', 'neg139831', 'neg294295', 'neg229227', 'neg47374', 'neg65906', 'neg269458', 'neg287561', 'neg106921', 'neg259071', 'neg31099', 'neg30229', 'neg199017', 'neg207639', 'neg196678', 'neg207290', 'neg75683', 'neg277805', 'neg226209', 'neg105750', 'neg61289', 'neg61802', 'neg183045', 'neg290659', 'neg237918', 'neg37138', 'neg110919', 'neg49375', 'neg107587', 'neg270853', 'neg286672', 'neg63052', 'neg254395', 'neg31141', 'neg324544', 'neg175503', 'neg183211', 'neg310418', 'neg28466', 'neg208868', 'neg116446', 'neg118071', 'neg42864', 'neg165719', 'neg195945', 'neg95279', 'neg206140', 'neg116132', 'neg222538', 'neg105567', 'neg73251', 'neg68183', 'neg221786', 'neg237540', 'neg99039', 'neg289267', 'neg99065', 'neg13503', 'neg20178', 'neg262150', 'neg329126', 'neg89249', 'neg180919', 'neg259057', 'neg110969', 'neg66236', 'neg24599', 'neg134961', 'neg3806', 'neg303490', 'neg133306', 'neg88436', 'neg139083', 'neg174484', 'neg321767', 'neg280412', 'neg68422', 'neg64362', 'neg68866', 'neg259201', 'neg63268', 'neg172843', 'neg234333', 'neg107963', 'neg106361', 'neg213007', 'neg217453', 'neg253707', 'neg100691', 'neg136350', 'neg228131', 'neg60561', 'neg238292', 'neg229817', 'neg164038', 'neg179039', 'neg270342', 'neg219106', 'neg106124', 'neg123637', 'neg124183', 'neg133156', 'neg287108', 'neg270235', 'neg228513', 'neg262157', 'neg270884', 'neg227660', 'neg80375', 'neg12096', 'neg271884', 'neg300401', 'neg280030', 'neg172320', 'neg188397', 'neg128283', 'neg66086', 'neg47662', 'neg293874', 'neg261550', 'neg52079', 'neg4139', 'neg140566', 'neg14852', 'neg144907', 'neg203002', 'neg96154', 'neg204457', 'neg291131', 'neg135962', 'neg5012', 'neg31841', 'neg106879', 'neg6028', 'neg42861', 'neg94095', 'neg189500', 'neg75898', 'neg175115', 'neg176160', 'neg219435', 'neg305500', 'neg283736', 'neg319582', 'neg204466', 'neg238444', 'neg315902', 'neg263130', 'neg287082', 'neg103073', 'neg82347', 'neg17233', 'neg80966', 'neg85321', 'neg250671', 'neg27281', 'neg63467', 'neg107301', 'neg149957', 'neg279349', 'neg31421', 'neg14212', 'neg183493', 'neg108351', 'neg320501', 'neg13868', 'neg51870', 'neg268367', 'neg65850', 'neg82729', 'neg138660', 'neg18121', 'neg320508', 'neg99697', 'neg206490', 'neg194050', 'neg121000', 'neg21824', 'neg119715', 'neg155144', 'neg99500', 'neg134637', 'neg229877', 'neg138526', 'neg54426', 'neg203292', 'neg253405', 'neg54544', 'neg314966', 'neg148257', 'neg86809', 'neg96210', 'neg237094', 'neg180605', 'neg19570', 'neg308122', 'neg3901', 'neg329177', 'neg133752', 'neg295210', 'neg133396', 'neg253389', 'neg288446', 'neg231728', 'neg82073', 'neg55912', 'neg64585', 'neg38167', 'neg37665', 'neg128954', 'neg38678', 'neg305115', 'neg269850', 'neg110862', 'neg265690', 'neg235138', 'neg31604', 'neg277199', 'neg328990', 'neg329288', 'neg124230', 'neg302471', 'neg183704', 'neg50325', 'neg325100', 'neg16714', 'neg142497', 'neg224091', 'neg232995', 'neg113196', 'neg220142', 'neg228026', 'neg222049', 'neg64220', 'neg306714', 'neg61225', 'neg208659', 'neg13814', 'neg280996', 'neg225705', 'neg221872', 'neg128300', 'neg149751', 'neg27784', 'neg2893', 'neg239221', 'neg124671', 'neg283454', 'neg73113', 'neg72424', 'neg73050', 'neg299503', 'neg164548', 'neg41748', 'neg30686', 'neg323283', 'neg17881', 'neg75670', 'neg287904', 'neg216017', 'neg159027', 'neg270831', 'neg19283', 'neg278700', 'neg14278', 'neg103216', 'neg132833', 'neg79724', 'neg179440', 'neg66552', 'neg100043', 'neg220386', 'neg79560', 'neg3794', 'neg90042', 'neg310938', 'neg323488', 'neg314645', 'neg298017', 'neg192490', 'neg177133', 'neg115748', 'neg86325', 'neg192532', 'neg277912', 'neg204420', 'neg234321', 'neg281931', 'neg232850', 'neg253217', 'neg282593', 'neg224469', 'neg165939', 'neg76443', 'neg285090', 'neg224529', 'neg236949', 'neg92999', 'neg110356', 'neg175643', 'neg326516', 'neg192580', 'neg241325', 'neg49297', 'neg67030', 'neg298742', 'neg179161', 'neg268421', 'neg13457', 'neg9624', 'neg279481', 'neg49885', 'neg294152', 'neg255678', 'neg201087', 'neg106271', 'neg175526', 'neg90437', 'neg69152', 'neg15089', 'neg183551', 'neg90020', 'neg43590', 'neg65845', 'neg22492', 'neg285506', 'neg162167', 'neg69743', 'neg160444', 'neg225272', 'neg59077', 'neg98692', 'neg89759', 'neg88995', 'neg37499', 'neg36580', 'neg62757', 'neg3060', 'neg250548', 'neg69341', 'neg175402', 'neg101527', 'neg130464', 'neg50111', 'neg2398', 'neg96811', 'neg224285', 'neg22457', 'neg86671', 'neg86299', 'neg140124', 'neg20433', 'neg20769', 'neg203463', 'neg83583', 'neg67607', 'neg282217', 'neg251449', 'neg271111', 'neg114511', 'neg253615', 'neg105161', 'neg25290', 'neg93092', 'neg257770', 'neg108336', 'neg260872', 'neg69914', 'neg40525', 'neg300859', 'neg261972', 'neg65836', 'neg128979', 'neg223287', 'neg217296', 'neg165735', 'neg277521', 'neg68274', 'neg306387', 'neg278879', 'neg138287', 'neg243029', 'neg145265', 'neg153550', 'neg23308', 'neg84628', 'neg44756', 'neg239693', 'neg103517', 'neg41476', 'neg178706', 'neg55054', 'neg233743', 'neg109560', 'neg95065', 'neg200753', 'neg225608', 'neg110801', 'neg194770', 'neg328331', 'neg232231', 'neg69778', 'neg241591', 'neg31428', 'neg105266', 'neg101982', 'neg178604', 'neg279566', 'neg310066', 'neg106027', 'neg8980', 'neg43055', 'neg290259', 'neg290745', 'neg251734', 'neg293764', 'neg21473', 'neg181545', 'neg105658', 'neg221951', 'neg68423', 'neg263570', 'neg169099', 'neg254531', 'neg137241', 'neg112039', 'neg98606', 'neg217776', 'neg17654', 'neg50406', 'neg263363', 'neg63036', 'neg257236', 'neg109290', 'neg283492', 'neg298512', 'neg127045', 'neg172942', 'neg56445', 'neg303884', 'neg90505', 'neg180444', 'neg114226', 'neg268604', 'neg231798', 'neg323560', 'neg116993', 'neg86330', 'neg83683', 'neg270346', 'neg281417', 'neg199357', 'neg25337', 'neg250440', 'neg250194', 'neg32400', 'neg110465', 'neg59774', 'neg68985', 'neg5599', 'neg53924', 'neg136126', 'neg161277', 'neg105234', 'neg201152', 'neg213374', 'neg186361', 'neg36635', 'neg204656', 'neg106671', 'neg84960', 'neg15994', 'neg205355', 'neg13925', 'neg34992', 'neg180270', 'neg104641', 'neg202295', 'neg197044', 'neg233050']\n"
     ]
    }
   ],
   "source": [
    "#if you rather want to get list of all compound names from the sdf, can use this code\n",
    "from fifi_pickle_load import get_cpd_names_sdf\n",
    "\n",
    "compound_names = get_cpd_names_sdf(ligand_file)\n",
    "print(compound_names)"
   ]
  }
 ],
 "metadata": {
  "kernelspec": {
   "display_name": "test",
   "language": "python",
   "name": "python3"
  },
  "language_info": {
   "codemirror_mode": {
    "name": "ipython",
    "version": 3
   },
   "file_extension": ".py",
   "mimetype": "text/x-python",
   "name": "python",
   "nbconvert_exporter": "python",
   "pygments_lexer": "ipython3",
   "version": "3.8.13"
  }
 },
 "nbformat": 4,
 "nbformat_minor": 2
}
