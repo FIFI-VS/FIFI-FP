{
 "cells": [
  {
   "cell_type": "markdown",
   "metadata": {},
   "source": [
    "# This Notebook will give an example how to create a fragmented interaction fingerprint (FIFI) for a set of docked compounds (sdf) and a protein (pdb)"
   ]
  },
  {
   "cell_type": "code",
   "execution_count": null,
   "metadata": {},
   "outputs": [],
   "source": [
    "import numpy as np\n",
    "import pandas as pd\n",
    "import os"
   ]
  },
  {
   "cell_type": "markdown",
   "metadata": {},
   "source": [
    "## Load the protein pdb and ligand sdf\n",
    "- using beta2-adrenergic receptor (adrb2) as an axample"
   ]
  },
  {
   "cell_type": "code",
   "execution_count": null,
   "metadata": {},
   "outputs": [],
   "source": [
    "from fifi_vicinity import load_pdb_file_with_amino_acid, load_mols_from_sdf\n",
    "target_abv = \"adrb2\"\n",
    "\n",
    "\n",
    "protein_file = load_pdb_file_with_amino_acid(f'file_source/{target_abv}_target.pdb')\n",
    "ligand_file = load_mols_from_sdf(f'file_source/{target_abv}_ligands_train.sdf')"
   ]
  },
  {
   "cell_type": "markdown",
   "metadata": {},
   "source": [
    "## Extracting the definition of proximal atoms\n",
    "- use this when first creating FIFI / when there isn't any proximal atoms pickle yet"
   ]
  },
  {
   "cell_type": "code",
   "execution_count": null,
   "metadata": {},
   "outputs": [],
   "source": [
    "from fifi_vicinity import extract_close_atoms, ligand_interaction_comprehension\n",
    "\n",
    "close_atom_list = extract_close_atoms(protein_file, ligand_file)\n",
    "df_fragment = ligand_interaction_comprehension(close_atom_list, ligand_file)"
   ]
  },
  {
   "cell_type": "markdown",
   "metadata": {},
   "source": [
    "## Saving DF fragments for future use\n",
    "- use this part if you want to save df_fragment as a local pickle file"
   ]
  },
  {
   "cell_type": "code",
   "execution_count": null,
   "metadata": {},
   "outputs": [],
   "source": [
    "from fifi_vicinity import dict2pickle\n",
    "\n",
    "df_fragment_path = f'vicinity_atoms/' #path to save the file result\n",
    "os.makedirs(df_fragment_path, exist_ok= True)\n",
    "dict2pickle(df_fragment, f\"{df_fragment_path}/{target_abv}.pickle\")"
   ]
  },
  {
   "cell_type": "markdown",
   "metadata": {},
   "source": [
    "## Loading DF fragments from previous work\n",
    "- Use this if previous pickle file of df fragment has already been made and saved and doesn't need to be made again"
   ]
  },
  {
   "cell_type": "code",
   "execution_count": null,
   "metadata": {},
   "outputs": [],
   "source": [
    "df_savefile_path =  f'vicinity_atoms/{target_abv}.pickle'\n",
    "\n",
    "df_fragment = pd.read_pickle(df_savefile_path)"
   ]
  },
  {
   "cell_type": "markdown",
   "metadata": {},
   "source": [
    "## Generating FIFI FP\n",
    "- Need df_fragments, protein pdb and ligands sdf file to be able to run"
    "- It will generated pickle saved in the decided path"
   ]
  },
  {
   "cell_type": "code",
   "execution_count": null,
   "metadata": {},
   "outputs": [],
   "source": [
    "from fifi_generating_fp import residue_dict_maker, generating_fifi_fp\n",
    "\n",
    "ligand_depth = 2 #number of proximal atoms' neighbor to be included \n",
    "protein_file_name = f'file_source/{target_abv}_target.pdb' #filename of pdb\n",
    "save_path = f\"smarts_bits_v8/{target_abv}\" #where to save the FIFI FP\n",
    "\n",
    "\n",
    "os.makedirs(save_path, exist_ok= True)\n",
    "aa_dict = residue_dict_maker(protein_file_name)\n",
    "generating_fifi_fp(ligand_file, df_fragment, ligand_depth, aa_dict)"
   ]
  }
 ],
{
   "cell_type": "markdown",
   "metadata": {},
   "source": [
    "## Loading the pickle of FIFI as dataframe\n",
    "- Use this to make FIFI from the pickle ready as input for machine learning as bits"
   ]
  },
  {
   "cell_type": "code",
   "execution_count": null,
   "metadata": {},
   "outputs": [],
   "source": [
    "from fifi_pickle_load import fifius_pickle2df \n",
    "example_ligands = ["ch1358", "ch704", "neg156742"] \n",
    "fifi_us_pickle_path =  f'{target_abv}/5.5/ecfp2_n2'\n",
    "\n",
    "df_fifi = fifius_pickle2df(fifi_us_pickle_path, example_ligands)"
   ]
  },
  
 "metadata": {
  "kernelspec": {
   "display_name": "test",
   "language": "python",
   "name": "python3"
  },
  "language_info": {
   "name": "python",
   "version": "3.8.13"
  }
 },
 "nbformat": 4,
 "nbformat_minor": 2
}
